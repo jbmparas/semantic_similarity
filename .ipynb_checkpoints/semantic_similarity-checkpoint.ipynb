{
 "cells": [
  {
   "cell_type": "markdown",
   "metadata": {},
   "source": [
    "# Tree Parser and Tree Match"
   ]
  },
  {
   "cell_type": "markdown",
   "metadata": {},
   "source": [
    "### pyStatParser (Tree Parser library)"
   ]
  },
  {
   "cell_type": "markdown",
   "metadata": {},
   "source": [
    "Simple Python statistical (CKY) parser together with scripts for learning the PCFG from the QuestionBank and Penn treebanks."
   ]
  },
  {
   "cell_type": "markdown",
   "metadata": {},
   "source": [
    "#### pyStatParser Installation\n",
    "\n",
    " 1. Download pyStatParser directory from github repository --> link.https://github.com/emilmont/pyStatParser\n",
    " 2. Use Setup.py to the install the Package. --> Command: \"python setup.py install\"\n",
    " "
   ]
  },
  {
   "cell_type": "markdown",
   "metadata": {},
   "source": [
    "# Import Library"
   ]
  },
  {
   "cell_type": "code",
   "execution_count": 1,
   "metadata": {},
   "outputs": [],
   "source": [
    "from semantic_code import classes\n",
    "Conceptobj = classes.ConceptNet_graph()\n",
    "ex = classes.execution(Conceptobj)"
   ]
  },
  {
   "cell_type": "code",
   "execution_count": 2,
   "metadata": {},
   "outputs": [
    {
     "data": {
      "text/plain": [
       "[['apple', 'fruit', 'orange']]"
      ]
     },
     "execution_count": 2,
     "metadata": {},
     "output_type": "execute_result"
    }
   ],
   "source": [
    "Conceptobj.get_relation_path('apple','orange')"
   ]
  },
  {
   "cell_type": "markdown",
   "metadata": {},
   "source": [
    "# Test Cases"
   ]
  },
  {
   "cell_type": "code",
   "execution_count": 3,
   "metadata": {},
   "outputs": [],
   "source": [
    "# sent1 = \"I ate an apple in new_york\" \n",
    "# sent2 = \"I ate an orange in new_jersey\" \n",
    "# sent1 = \"I ate an apple under the bridge\" \n",
    "# sent2 = \"I ate an orange\" \n",
    "# sent1 = \"I am from harvard\" \n",
    "# sent2 = \"I am from new_jersey\" \n",
    "# sent1 = \"I eat ripe apples\" ######\n",
    "# sent2 = \"I eat spoiled oranges\" ######\n",
    "# sent1 = \"I eat apples and oranges\"  \n",
    "# sent2 = \"I eat apples but not oranges\" \n",
    "# sent1 = \"I ate an apple under the bridge\" \n",
    "# sent2 = \"I ate an orange by the building\"\n",
    "sent1 = \"I ate an apple under the bridge at midnight\" \n",
    "sent2 = \"I ate an tomato at noon\"\n",
    "# sent1 = \"I eat ripe apples\" \n",
    "# sent2 = \"I eat an apple\"\n",
    "# sent1 = \"He said the foodservice pie business does not fit our long-term growth strategy\"\n",
    "# sent2 = \"The foodservice pie business does not fit the company long-term growth strategy\"\n",
    "# sent1 = \"The broader Standard & Poor 's 500 Index .SPX gave up 11.91 points , or 1.19 percent , at 986.60\"\n",
    "# sent2 = \"The technology-laced Nasdaq Composite Index was down 25.36 points , or 1.53 percent , at 1,628.26\"\n",
    "# sent1 = \"I am from new_york\" \n",
    "# sent2 = \"I eat apples\"\n",
    "# sent1 = 'You need to read a lot to know what you like and what you do not'\n",
    "# sent2 = 'You should tell a good story and sometimes you have to tweak reality to do so'\n",
    "# sent1 = 'I did this one time as well'\n",
    "# sent2 = 'I have this habit as well'\n",
    "# sent1 = 'In the US it will depend on the school'\n",
    "# sent2 = 'It really depends on the school and the program'\n",
    "# sent1 = 'You do not need to worry'\n",
    "# sent2 = 'You do not have to worry'\n",
    "# sent1 = 'The problem likely will mean corrective changes before the shuttle fleet starts flying again'\n",
    "# sent2 = 'He said the problem needs to be corrected before the space shuttle fleet is cleared to fly again'\n",
    "# sent1 = 'Bremer said one initiative is to launch a US$70 million nationwide program in the next two weeks to clean up neighborhoods and build community projects'\n",
    "# sent2 = 'Bremer said he would launch a $70-million program in the next two weeks to clean up neighborhoods across Iraq and build community projects, but gave no details'"
   ]
  },
  {
   "cell_type": "markdown",
   "metadata": {},
   "source": [
    "# Show original tree"
   ]
  },
  {
   "cell_type": "code",
   "execution_count": 4,
   "metadata": {},
   "outputs": [
    {
     "name": "stdout",
     "output_type": "stream",
     "text": [
      "                         RRC                                 \n",
      "  ________________________|____                               \n",
      " |    |                        NP                            \n",
      " |    |                    ____|__________________            \n",
      " |    |                   NP                      |          \n",
      " |    |         __________|____                   |           \n",
      " |    |        |               PP                 PP         \n",
      " |    |        |           ____|___            ___|_____      \n",
      "ADJP ADJP      NP         |        NP         |         NP   \n",
      " |    |     ___|____      |     ___|____      |         |     \n",
      " JJ   JJ   DT       NN    IN   DT       NN    IN        NN   \n",
      " |    |    |        |     |    |        |     |         |     \n",
      " i   ate   an     apple under the     bridge  at     midnight\n",
      "\n",
      "          RRC                            \n",
      "  _________|______________                \n",
      " |    |                   NP             \n",
      " |    |         __________|_______        \n",
      " |    |        |                  PP     \n",
      " |    |        |               ___|___    \n",
      "ADJP ADJP      NP             |       NP \n",
      " |    |     ___|____          |       |   \n",
      " JJ   JJ   DT       NN        IN      NN \n",
      " |    |    |        |         |       |   \n",
      " i   ate   an     tomato      at     noon\n",
      "\n"
     ]
    }
   ],
   "source": [
    "classes.parser.parse(sent1.lower()).pretty_print()\n",
    "classes.parser.parse(sent2.lower()).pretty_print()"
   ]
  },
  {
   "cell_type": "markdown",
   "metadata": {},
   "source": [
    "# Process the Sentences"
   ]
  },
  {
   "cell_type": "code",
   "execution_count": null,
   "metadata": {
    "scrolled": true
   },
   "outputs": [
    {
     "name": "stdout",
     "output_type": "stream",
     "text": [
      "apple tomato NN NN\n",
      "apple tomato\n"
     ]
    }
   ],
   "source": [
    "parse_sent1,parse_sent2,word,realtion,word_tag = ex.calculate_intersection_differance(sent1,sent2)"
   ]
  },
  {
   "cell_type": "markdown",
   "metadata": {},
   "source": [
    "# Show Tree Differances"
   ]
  },
  {
   "cell_type": "code",
   "execution_count": null,
   "metadata": {},
   "outputs": [],
   "source": [
    "ex.get_tree_differance(word, realtion,word_tag)"
   ]
  },
  {
   "cell_type": "markdown",
   "metadata": {},
   "source": [
    "# Show Tree Intersection"
   ]
  },
  {
   "cell_type": "code",
   "execution_count": null,
   "metadata": {},
   "outputs": [],
   "source": [
    "ex.get_tree_intersection(parse_sent1,parse_sent2)"
   ]
  },
  {
   "cell_type": "code",
   "execution_count": null,
   "metadata": {},
   "outputs": [],
   "source": []
  }
 ],
 "metadata": {
  "kernelspec": {
   "display_name": "Python 3",
   "language": "python",
   "name": "python3"
  },
  "language_info": {
   "codemirror_mode": {
    "name": "ipython",
    "version": 3
   },
   "file_extension": ".py",
   "mimetype": "text/x-python",
   "name": "python",
   "nbconvert_exporter": "python",
   "pygments_lexer": "ipython3",
   "version": "3.7.1"
  }
 },
 "nbformat": 4,
 "nbformat_minor": 2
}
